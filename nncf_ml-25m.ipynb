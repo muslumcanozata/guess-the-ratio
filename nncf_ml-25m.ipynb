{
 "cells": [
  {
   "cell_type": "code",
   "execution_count": 149,
   "id": "1797bddf",
   "metadata": {},
   "outputs": [],
   "source": [
    "import numpy as np\n",
    "import pandas as pd\n",
    "from sklearn.model_selection import train_test_split\n",
    "from sklearn.utils import shuffle\n",
    "from scipy.sparse import csr_matrix\n",
    "from collections import Counter\n",
    "from sklearn.metrics import pairwise_distances, precision_recall_fscore_support, mean_absolute_error, mean_squared_error\n",
    "from operator import itemgetter\n",
    "from tqdm.notebook import tqdm\n",
    "import copy\n",
    "import heapq\n",
    "import sys, os\n",
    "import pickle\n",
    "import itertools\n",
    "import operator\n",
    "import math"
   ]
  },
  {
   "cell_type": "code",
   "execution_count": 150,
   "id": "779831d3",
   "metadata": {},
   "outputs": [],
   "source": [
    "ratings = pd.read_csv(\"./datasets/ratings.csv\", sep=\",\")"
   ]
  },
  {
   "cell_type": "code",
   "execution_count": 183,
   "id": "4c30ed33",
   "metadata": {},
   "outputs": [
    {
     "name": "stdout",
     "output_type": "stream",
     "text": [
      "<class 'pandas.core.frame.DataFrame'>\n"
     ]
    },
    {
     "data": {
      "text/html": [
       "<div>\n",
       "<style scoped>\n",
       "    .dataframe tbody tr th:only-of-type {\n",
       "        vertical-align: middle;\n",
       "    }\n",
       "\n",
       "    .dataframe tbody tr th {\n",
       "        vertical-align: top;\n",
       "    }\n",
       "\n",
       "    .dataframe thead th {\n",
       "        text-align: right;\n",
       "    }\n",
       "</style>\n",
       "<table border=\"1\" class=\"dataframe\">\n",
       "  <thead>\n",
       "    <tr style=\"text-align: right;\">\n",
       "      <th></th>\n",
       "      <th>userId</th>\n",
       "      <th>movieId</th>\n",
       "      <th>rating</th>\n",
       "      <th>timestamp</th>\n",
       "    </tr>\n",
       "  </thead>\n",
       "  <tbody>\n",
       "    <tr>\n",
       "      <th>0</th>\n",
       "      <td>1</td>\n",
       "      <td>296</td>\n",
       "      <td>5.0</td>\n",
       "      <td>1147880044</td>\n",
       "    </tr>\n",
       "    <tr>\n",
       "      <th>1</th>\n",
       "      <td>1</td>\n",
       "      <td>306</td>\n",
       "      <td>3.5</td>\n",
       "      <td>1147868817</td>\n",
       "    </tr>\n",
       "    <tr>\n",
       "      <th>2</th>\n",
       "      <td>1</td>\n",
       "      <td>307</td>\n",
       "      <td>5.0</td>\n",
       "      <td>1147868828</td>\n",
       "    </tr>\n",
       "    <tr>\n",
       "      <th>3</th>\n",
       "      <td>1</td>\n",
       "      <td>665</td>\n",
       "      <td>5.0</td>\n",
       "      <td>1147878820</td>\n",
       "    </tr>\n",
       "    <tr>\n",
       "      <th>4</th>\n",
       "      <td>1</td>\n",
       "      <td>899</td>\n",
       "      <td>3.5</td>\n",
       "      <td>1147868510</td>\n",
       "    </tr>\n",
       "  </tbody>\n",
       "</table>\n",
       "</div>"
      ],
      "text/plain": [
       "   userId  movieId  rating   timestamp\n",
       "0       1      296     5.0  1147880044\n",
       "1       1      306     3.5  1147868817\n",
       "2       1      307     5.0  1147868828\n",
       "3       1      665     5.0  1147878820\n",
       "4       1      899     3.5  1147868510"
      ]
     },
     "execution_count": 183,
     "metadata": {},
     "output_type": "execute_result"
    }
   ],
   "source": [
    "print(type(ratings))\n",
    "ratings.head()"
   ]
  },
  {
   "cell_type": "code",
   "execution_count": 158,
   "id": "20fc0b19",
   "metadata": {},
   "outputs": [
    {
     "name": "stdout",
     "output_type": "stream",
     "text": [
      "(62423, 3)\n"
     ]
    },
    {
     "data": {
      "text/html": [
       "<div>\n",
       "<style scoped>\n",
       "    .dataframe tbody tr th:only-of-type {\n",
       "        vertical-align: middle;\n",
       "    }\n",
       "\n",
       "    .dataframe tbody tr th {\n",
       "        vertical-align: top;\n",
       "    }\n",
       "\n",
       "    .dataframe thead th {\n",
       "        text-align: right;\n",
       "    }\n",
       "</style>\n",
       "<table border=\"1\" class=\"dataframe\">\n",
       "  <thead>\n",
       "    <tr style=\"text-align: right;\">\n",
       "      <th></th>\n",
       "      <th>movieId</th>\n",
       "      <th>title</th>\n",
       "      <th>genres</th>\n",
       "    </tr>\n",
       "  </thead>\n",
       "  <tbody>\n",
       "    <tr>\n",
       "      <th>0</th>\n",
       "      <td>1</td>\n",
       "      <td>Toy Story (1995)</td>\n",
       "      <td>Adventure|Animation|Children|Comedy|Fantasy</td>\n",
       "    </tr>\n",
       "    <tr>\n",
       "      <th>1</th>\n",
       "      <td>2</td>\n",
       "      <td>Jumanji (1995)</td>\n",
       "      <td>Adventure|Children|Fantasy</td>\n",
       "    </tr>\n",
       "    <tr>\n",
       "      <th>2</th>\n",
       "      <td>3</td>\n",
       "      <td>Grumpier Old Men (1995)</td>\n",
       "      <td>Comedy|Romance</td>\n",
       "    </tr>\n",
       "    <tr>\n",
       "      <th>3</th>\n",
       "      <td>4</td>\n",
       "      <td>Waiting to Exhale (1995)</td>\n",
       "      <td>Comedy|Drama|Romance</td>\n",
       "    </tr>\n",
       "    <tr>\n",
       "      <th>4</th>\n",
       "      <td>5</td>\n",
       "      <td>Father of the Bride Part II (1995)</td>\n",
       "      <td>Comedy</td>\n",
       "    </tr>\n",
       "  </tbody>\n",
       "</table>\n",
       "</div>"
      ],
      "text/plain": [
       "   movieId                               title  \\\n",
       "0        1                    Toy Story (1995)   \n",
       "1        2                      Jumanji (1995)   \n",
       "2        3             Grumpier Old Men (1995)   \n",
       "3        4            Waiting to Exhale (1995)   \n",
       "4        5  Father of the Bride Part II (1995)   \n",
       "\n",
       "                                        genres  \n",
       "0  Adventure|Animation|Children|Comedy|Fantasy  \n",
       "1                   Adventure|Children|Fantasy  \n",
       "2                               Comedy|Romance  \n",
       "3                         Comedy|Drama|Romance  \n",
       "4                                       Comedy  "
      ]
     },
     "execution_count": 158,
     "metadata": {},
     "output_type": "execute_result"
    }
   ],
   "source": [
    "movies = pd.read_csv(\"./datasets/movies.csv\", sep=\",\")\n",
    "print(movies.shape)\n",
    "movies.head()"
   ]
  },
  {
   "cell_type": "code",
   "execution_count": 153,
   "id": "ae1f8db1",
   "metadata": {},
   "outputs": [],
   "source": [
    "rating_map = {}\n",
    "for i in range(len(ratings)):\n",
    "    key = str(ratings.iloc[i,0]) + '/' +str(ratings.iloc[i,1])\n",
    "    rating_map[key]=ratings.iloc[i,2]"
   ]
  },
  {
   "cell_type": "code",
   "execution_count": 161,
   "id": "7c63159f",
   "metadata": {},
   "outputs": [],
   "source": [
    "user_ratings_map = {}\n",
    "\n",
    "items = ratings.movieId.unique()\n",
    "for i in items:\n",
    "    userids = ratings.query(\"movieId == @i\").userId.array\n",
    "    user_ratings = ratings.query(\"movieId == @i\").rating.array\n",
    "    user_ratings_map[i] = (userids,user_ratings)"
   ]
  },
  {
   "cell_type": "code",
   "execution_count": 162,
   "id": "dadb8335",
   "metadata": {},
   "outputs": [],
   "source": [
    "def NNCF_based_rating_prediction(u, i, metric):\n",
    "    r = 0\n",
    "    sum_sim = 0\n",
    "    # find the movies rated by u\n",
    "    movies = ratings[ratings[\"userId\"]==u].movieId\n",
    "    for j in movies:\n",
    "        sim = calc_sim(i, j, metric)\n",
    "        key = str(u)+\"/\"+str(j)\n",
    "        r += sim*rating_map[key]\n",
    "        sum_sim += sim\n",
    "    if sum_sim == 0:\n",
    "        return 0\n",
    "    else:\n",
    "        return r / sum_sim"
   ]
  },
  {
   "cell_type": "code",
   "execution_count": 163,
   "id": "8b020f5a",
   "metadata": {},
   "outputs": [],
   "source": [
    "# finds the similary of items i and j \n",
    "def calc_sim(i,j, metric):\n",
    "    # users who rated item i\n",
    "    users_rated_i = user_ratings_map[i][0]\n",
    "    ratings_i = user_ratings_map[i][1]\n",
    "    # users who rated item j\n",
    "    users_rated_j = user_ratings_map[j][0]\n",
    "    ratings_j = user_ratings_map[j][1]\n",
    "\n",
    "    # Jaccard ignores rating values.\n",
    "    if metric == \"Jaccard\":\n",
    "        intersection_size = len(set(users_rated_i).intersection(users_rated_j))\n",
    "        union_size = len(set(users_rated_i).union(users_rated_j))\n",
    "        return intersection_size / union_size\n",
    "    elif metric == \"Euclidian_Distance\":\n",
    "        return math.sqrt(sum([(item_one - item_two ) ** 2 for item_one, item_two in zip(ratings_i, ratings_j)]))\n",
    "\n",
    "    "
   ]
  },
  {
   "cell_type": "markdown",
   "id": "28996528",
   "metadata": {},
   "source": [
    "## Evaluation of Rating Prediction\n",
    "\n",
    "How can we measure the performance of a recommender algorithm? This is similar to the evaluation used in machine learning.\n",
    "\n",
    "- Make a train/test split\n",
    "- Build the model on the training set\n",
    "- Make predictions for the ratings in the test set\n",
    "- Find the mean absolute error (MAE)\n",
    "\n",
    "For more metrics other then MAE loo at the \"Metrics for Regression\" section of [this notebook](http://localhost:8888/notebooks/PycharmProjects/data_science/evaluation.ipynb)"
   ]
  },
  {
   "cell_type": "code",
   "execution_count": 187,
   "id": "30062c19",
   "metadata": {},
   "outputs": [
    {
     "name": "stdout",
     "output_type": "stream",
     "text": [
      "Test size: 100\n"
     ]
    },
    {
     "data": {
      "application/vnd.jupyter.widget-view+json": {
       "model_id": "8be74c2505634708840457470704ebab",
       "version_major": 2,
       "version_minor": 0
      },
      "text/plain": [
       "  0%|          | 0/100 [00:00<?, ?it/s]"
      ]
     },
     "metadata": {},
     "output_type": "display_data"
    },
    {
     "name": "stdout",
     "output_type": "stream",
     "text": [
      "RMSE for Euclidian Distance Similarity Metric:  1.0058466606513001\n",
      "RMSE for Jaccard Similarity Metric:  0.8218831636026663\n"
     ]
    }
   ],
   "source": [
    "X_train, X_test = train_test_split(ratings, test_size=100)\n",
    "train_size = X_train.shape[0]\n",
    "test_size = X_test.shape[0]\n",
    "print(\"Test size:\", test_size)\n",
    "error1 = 0\n",
    "error2 = 0\n",
    "error3 = 0\n",
    "preds = []\n",
    "\n",
    "c = 1\n",
    "avg_rating = X_train.iloc[:,2].mean()\n",
    "for k in tqdm(range(test_size)): \n",
    "    c+=1\n",
    "    u = X_test.iloc[k,0]\n",
    "    i = X_test.iloc[k,1]\n",
    "    r = X_test.iloc[k,2]\n",
    "    \n",
    "    err = NNCF_based_rating_prediction(u,i,\"Euclidian_Distance\")\n",
    "    if (np.isnan(err)):\n",
    "        error1 += (r - avg_rating)**2\n",
    "        print(\"x\")\n",
    "        preds.append(avg_rating)\n",
    "    else:\n",
    "        preds.append(err)\n",
    "        error1 += (r - NNCF_based_rating_prediction(u,i,\"Euclidian_Distance\"))**2\n",
    "        error2 += (r - NNCF_based_rating_prediction(u,i,\"Jaccard\"))**2\n",
    "\n",
    "\n",
    "print(\"RMSE for Euclidian Distance Similarity Metric: \", np.sqrt(error1/test_size))\n",
    "print(\"RMSE for Jaccard Similarity Metric: \", np.sqrt(error2/test_size))"
   ]
  },
  {
   "cell_type": "code",
   "execution_count": 188,
   "id": "9351c340",
   "metadata": {},
   "outputs": [
    {
     "name": "stdout",
     "output_type": "stream",
     "text": [
      "MAE: 0.7836739091745878, \n",
      "MSE: 1.011727504743372, \n",
      "RMSE: 1.0058466606513004 \n",
      "by using sklearn.metrics's functions\n"
     ]
    }
   ],
   "source": [
    "#calculating mae, rmse and mse values using sklearn library\n",
    "X_test[\"preds\"] = preds\n",
    "MAE = mean_absolute_error(X_test[\"rating\"], X_test[\"preds\"])\n",
    "MSE = mean_squared_error(X_test[\"rating\"], X_test[\"preds\"])\n",
    "RMSE = np.sqrt(mean_squared_error(X_test[\"rating\"], X_test[\"preds\"]))\n",
    "print('MAE: {}, \\nMSE: {}, \\nRMSE: {} \\nby using sklearn.metrics\\'s functions'.format(MAE, MSE, RMSE))"
   ]
  },
  {
   "cell_type": "code",
   "execution_count": 184,
   "id": "a1dfac37",
   "metadata": {},
   "outputs": [
    {
     "data": {
      "text/plain": [
       "pandas.core.frame.DataFrame"
      ]
     },
     "execution_count": 184,
     "metadata": {},
     "output_type": "execute_result"
    }
   ],
   "source": [
    "type(X_train)"
   ]
  },
  {
   "cell_type": "code",
   "execution_count": 178,
   "id": "73bcfe46",
   "metadata": {},
   "outputs": [
    {
     "data": {
      "text/html": [
       "<div>\n",
       "<style scoped>\n",
       "    .dataframe tbody tr th:only-of-type {\n",
       "        vertical-align: middle;\n",
       "    }\n",
       "\n",
       "    .dataframe tbody tr th {\n",
       "        vertical-align: top;\n",
       "    }\n",
       "\n",
       "    .dataframe thead th {\n",
       "        text-align: right;\n",
       "    }\n",
       "</style>\n",
       "<table border=\"1\" class=\"dataframe\">\n",
       "  <thead>\n",
       "    <tr style=\"text-align: right;\">\n",
       "      <th></th>\n",
       "      <th>userId</th>\n",
       "      <th>movieId</th>\n",
       "      <th>rating</th>\n",
       "      <th>timestamp</th>\n",
       "      <th>preds</th>\n",
       "      <th>relevant_test</th>\n",
       "      <th>relevant_pred</th>\n",
       "    </tr>\n",
       "  </thead>\n",
       "  <tbody>\n",
       "    <tr>\n",
       "      <th>20539252</th>\n",
       "      <td>133571</td>\n",
       "      <td>3264</td>\n",
       "      <td>2.0</td>\n",
       "      <td>948200436</td>\n",
       "      <td>3.639611</td>\n",
       "      <td>0</td>\n",
       "      <td>1</td>\n",
       "    </tr>\n",
       "    <tr>\n",
       "      <th>6608956</th>\n",
       "      <td>42801</td>\n",
       "      <td>1676</td>\n",
       "      <td>4.0</td>\n",
       "      <td>1208375503</td>\n",
       "      <td>3.776854</td>\n",
       "      <td>1</td>\n",
       "      <td>1</td>\n",
       "    </tr>\n",
       "    <tr>\n",
       "      <th>15592650</th>\n",
       "      <td>100977</td>\n",
       "      <td>344</td>\n",
       "      <td>2.5</td>\n",
       "      <td>1129383549</td>\n",
       "      <td>3.194659</td>\n",
       "      <td>0</td>\n",
       "      <td>0</td>\n",
       "    </tr>\n",
       "    <tr>\n",
       "      <th>2644211</th>\n",
       "      <td>17588</td>\n",
       "      <td>157296</td>\n",
       "      <td>4.5</td>\n",
       "      <td>1547110139</td>\n",
       "      <td>4.144660</td>\n",
       "      <td>1</td>\n",
       "      <td>1</td>\n",
       "    </tr>\n",
       "    <tr>\n",
       "      <th>8568186</th>\n",
       "      <td>55819</td>\n",
       "      <td>6365</td>\n",
       "      <td>3.5</td>\n",
       "      <td>1257019291</td>\n",
       "      <td>3.364667</td>\n",
       "      <td>0</td>\n",
       "      <td>0</td>\n",
       "    </tr>\n",
       "    <tr>\n",
       "      <th>...</th>\n",
       "      <td>...</td>\n",
       "      <td>...</td>\n",
       "      <td>...</td>\n",
       "      <td>...</td>\n",
       "      <td>...</td>\n",
       "      <td>...</td>\n",
       "      <td>...</td>\n",
       "    </tr>\n",
       "    <tr>\n",
       "      <th>11369285</th>\n",
       "      <td>73802</td>\n",
       "      <td>377</td>\n",
       "      <td>3.0</td>\n",
       "      <td>944984131</td>\n",
       "      <td>3.790503</td>\n",
       "      <td>0</td>\n",
       "      <td>1</td>\n",
       "    </tr>\n",
       "    <tr>\n",
       "      <th>15190904</th>\n",
       "      <td>98446</td>\n",
       "      <td>1266</td>\n",
       "      <td>5.0</td>\n",
       "      <td>1115335993</td>\n",
       "      <td>3.880368</td>\n",
       "      <td>1</td>\n",
       "      <td>1</td>\n",
       "    </tr>\n",
       "    <tr>\n",
       "      <th>4700206</th>\n",
       "      <td>30734</td>\n",
       "      <td>2929</td>\n",
       "      <td>3.0</td>\n",
       "      <td>940786701</td>\n",
       "      <td>4.191106</td>\n",
       "      <td>0</td>\n",
       "      <td>1</td>\n",
       "    </tr>\n",
       "    <tr>\n",
       "      <th>17553906</th>\n",
       "      <td>113791</td>\n",
       "      <td>678</td>\n",
       "      <td>5.0</td>\n",
       "      <td>1176625128</td>\n",
       "      <td>3.743435</td>\n",
       "      <td>1</td>\n",
       "      <td>1</td>\n",
       "    </tr>\n",
       "    <tr>\n",
       "      <th>1570957</th>\n",
       "      <td>10512</td>\n",
       "      <td>54995</td>\n",
       "      <td>4.5</td>\n",
       "      <td>1460839898</td>\n",
       "      <td>4.131889</td>\n",
       "      <td>1</td>\n",
       "      <td>1</td>\n",
       "    </tr>\n",
       "  </tbody>\n",
       "</table>\n",
       "<p>100 rows × 7 columns</p>\n",
       "</div>"
      ],
      "text/plain": [
       "          userId  movieId  rating   timestamp     preds  relevant_test  \\\n",
       "20539252  133571     3264     2.0   948200436  3.639611              0   \n",
       "6608956    42801     1676     4.0  1208375503  3.776854              1   \n",
       "15592650  100977      344     2.5  1129383549  3.194659              0   \n",
       "2644211    17588   157296     4.5  1547110139  4.144660              1   \n",
       "8568186    55819     6365     3.5  1257019291  3.364667              0   \n",
       "...          ...      ...     ...         ...       ...            ...   \n",
       "11369285   73802      377     3.0   944984131  3.790503              0   \n",
       "15190904   98446     1266     5.0  1115335993  3.880368              1   \n",
       "4700206    30734     2929     3.0   940786701  4.191106              0   \n",
       "17553906  113791      678     5.0  1176625128  3.743435              1   \n",
       "1570957    10512    54995     4.5  1460839898  4.131889              1   \n",
       "\n",
       "          relevant_pred  \n",
       "20539252              1  \n",
       "6608956               1  \n",
       "15592650              0  \n",
       "2644211               1  \n",
       "8568186               0  \n",
       "...                 ...  \n",
       "11369285              1  \n",
       "15190904              1  \n",
       "4700206               1  \n",
       "17553906              1  \n",
       "1570957               1  \n",
       "\n",
       "[100 rows x 7 columns]"
      ]
     },
     "execution_count": 178,
     "metadata": {},
     "output_type": "execute_result"
    }
   ],
   "source": [
    "X_test"
   ]
  },
  {
   "cell_type": "code",
   "execution_count": 186,
   "id": "f8f446c7",
   "metadata": {},
   "outputs": [
    {
     "name": "stdout",
     "output_type": "stream",
     "text": [
      "20539252    0\n",
      "6608956     1\n",
      "15592650    0\n",
      "2644211     1\n",
      "8568186     0\n",
      "Name: relevant_test, dtype: int32\n",
      "20539252    1\n",
      "6608956     1\n",
      "15592650    0\n",
      "2644211     1\n",
      "8568186     0\n",
      "Name: relevant_pred, dtype: int32\n",
      "Precision: 0.7218453188602443 and Recall: 0.7001223990208079\n"
     ]
    }
   ],
   "source": [
    "#calculating precise and recall values \n",
    "X_test['relevant_test'] = (X_test['rating'] > 3.5) * 1\n",
    "X_test['relevant_pred'] = (X_test['preds'] > 3.5) * 1\n",
    "print(X_test['relevant_test'].head())\n",
    "print(X_test['relevant_pred'].head())\n",
    "results = precision_recall_fscore_support(X_test['relevant_test'] , X_test['relevant_pred'] , average='macro')\n",
    "print('Precision: {} and Recall: {}'.format(results[0], results[1]))"
   ]
  },
  {
   "cell_type": "code",
   "execution_count": 170,
   "id": "dfe41d6a",
   "metadata": {},
   "outputs": [],
   "source": [
    "def top_N_pred_sort(N, u):\n",
    "    preds = pd.Series([], dtype='float')\n",
    "    # find the movies not rated by u\n",
    "    movies_not_rated = ratings.query(\"userId != @u\").movieId.unique()\n",
    "    sample_movies = np.random.choice(movies_not_rated, 1000)\n",
    "    for m in tqdm(sample_movies):\n",
    "        preds[m] = NNCF_based_rating_prediction(u, m, \"Euclidian_Distance\")\n",
    "    return preds.sort_values(ascending=False)[:N]    "
   ]
  },
  {
   "cell_type": "code",
   "execution_count": 171,
   "id": "9d8a6435",
   "metadata": {},
   "outputs": [
    {
     "data": {
      "application/vnd.jupyter.widget-view+json": {
       "model_id": "670e61b527a249f699e1a7e27fe61ebd",
       "version_major": 2,
       "version_minor": 0
      },
      "text/plain": [
       "  0%|          | 0/1000 [00:00<?, ?it/s]"
      ]
     },
     "metadata": {},
     "output_type": "display_data"
    },
    {
     "data": {
      "text/plain": [
       "203268    5.000000\n",
       "144890    5.000000\n",
       "169628    5.000000\n",
       "204066    5.000000\n",
       "181503    4.954360\n",
       "204820    4.814240\n",
       "184745    4.754053\n",
       "204224    4.733326\n",
       "163012    4.693986\n",
       "179805    4.688951\n",
       "dtype: float64"
      ]
     },
     "execution_count": 171,
     "metadata": {},
     "output_type": "execute_result"
    }
   ],
   "source": [
    "top_N_pred_sort(10, 1)"
   ]
  },
  {
   "cell_type": "code",
   "execution_count": 172,
   "id": "bec5510a",
   "metadata": {},
   "outputs": [
    {
     "data": {
      "application/vnd.jupyter.widget-view+json": {
       "model_id": "851806592c884dffa45ddfc7986304d3",
       "version_major": 2,
       "version_minor": 0
      },
      "text/plain": [
       "  0%|          | 0/1000 [00:00<?, ?it/s]"
      ]
     },
     "metadata": {},
     "output_type": "display_data"
    },
    {
     "ename": "KeyboardInterrupt",
     "evalue": "",
     "output_type": "error",
     "traceback": [
      "\u001b[1;31m---------------------------------------------------------------------------\u001b[0m",
      "\u001b[1;31mKeyboardInterrupt\u001b[0m                         Traceback (most recent call last)",
      "\u001b[1;32m~\\AppData\\Local\\Temp\\ipykernel_9300\\3927489048.py\u001b[0m in \u001b[0;36m<module>\u001b[1;34m\u001b[0m\n\u001b[1;32m----> 1\u001b[1;33m \u001b[0mtop_N_pred_sort\u001b[0m\u001b[1;33m(\u001b[0m\u001b[1;36m10\u001b[0m\u001b[1;33m,\u001b[0m \u001b[1;36m2\u001b[0m\u001b[1;33m)\u001b[0m\u001b[1;33m\u001b[0m\u001b[1;33m\u001b[0m\u001b[0m\n\u001b[0m",
      "\u001b[1;32m~\\AppData\\Local\\Temp\\ipykernel_9300\\2362724766.py\u001b[0m in \u001b[0;36mtop_N_pred_sort\u001b[1;34m(N, u)\u001b[0m\n\u001b[0;32m      5\u001b[0m     \u001b[0msample_movies\u001b[0m \u001b[1;33m=\u001b[0m \u001b[0mnp\u001b[0m\u001b[1;33m.\u001b[0m\u001b[0mrandom\u001b[0m\u001b[1;33m.\u001b[0m\u001b[0mchoice\u001b[0m\u001b[1;33m(\u001b[0m\u001b[0mmovies_not_rated\u001b[0m\u001b[1;33m,\u001b[0m \u001b[1;36m1000\u001b[0m\u001b[1;33m)\u001b[0m\u001b[1;33m\u001b[0m\u001b[1;33m\u001b[0m\u001b[0m\n\u001b[0;32m      6\u001b[0m     \u001b[1;32mfor\u001b[0m \u001b[0mm\u001b[0m \u001b[1;32min\u001b[0m \u001b[0mtqdm\u001b[0m\u001b[1;33m(\u001b[0m\u001b[0msample_movies\u001b[0m\u001b[1;33m)\u001b[0m\u001b[1;33m:\u001b[0m\u001b[1;33m\u001b[0m\u001b[1;33m\u001b[0m\u001b[0m\n\u001b[1;32m----> 7\u001b[1;33m         \u001b[0mpreds\u001b[0m\u001b[1;33m[\u001b[0m\u001b[0mm\u001b[0m\u001b[1;33m]\u001b[0m \u001b[1;33m=\u001b[0m \u001b[0mNNCF_based_rating_prediction\u001b[0m\u001b[1;33m(\u001b[0m\u001b[0mu\u001b[0m\u001b[1;33m,\u001b[0m \u001b[0mm\u001b[0m\u001b[1;33m,\u001b[0m \u001b[1;34m\"Jaccard\"\u001b[0m\u001b[1;33m)\u001b[0m\u001b[1;33m\u001b[0m\u001b[1;33m\u001b[0m\u001b[0m\n\u001b[0m\u001b[0;32m      8\u001b[0m     \u001b[1;32mreturn\u001b[0m \u001b[0mpreds\u001b[0m\u001b[1;33m.\u001b[0m\u001b[0msort_values\u001b[0m\u001b[1;33m(\u001b[0m\u001b[0mascending\u001b[0m\u001b[1;33m=\u001b[0m\u001b[1;32mFalse\u001b[0m\u001b[1;33m)\u001b[0m\u001b[1;33m[\u001b[0m\u001b[1;33m:\u001b[0m\u001b[0mN\u001b[0m\u001b[1;33m]\u001b[0m\u001b[1;33m\u001b[0m\u001b[1;33m\u001b[0m\u001b[0m\n",
      "\u001b[1;32m~\\AppData\\Local\\Temp\\ipykernel_9300\\4011348384.py\u001b[0m in \u001b[0;36mNNCF_based_rating_prediction\u001b[1;34m(u, i, metric)\u001b[0m\n\u001b[0;32m      5\u001b[0m     \u001b[0mmovies\u001b[0m \u001b[1;33m=\u001b[0m \u001b[0mratings\u001b[0m\u001b[1;33m[\u001b[0m\u001b[0mratings\u001b[0m\u001b[1;33m[\u001b[0m\u001b[1;34m\"userId\"\u001b[0m\u001b[1;33m]\u001b[0m\u001b[1;33m==\u001b[0m\u001b[0mu\u001b[0m\u001b[1;33m]\u001b[0m\u001b[1;33m.\u001b[0m\u001b[0mmovieId\u001b[0m\u001b[1;33m\u001b[0m\u001b[1;33m\u001b[0m\u001b[0m\n\u001b[0;32m      6\u001b[0m     \u001b[1;32mfor\u001b[0m \u001b[0mj\u001b[0m \u001b[1;32min\u001b[0m \u001b[0mmovies\u001b[0m\u001b[1;33m:\u001b[0m\u001b[1;33m\u001b[0m\u001b[1;33m\u001b[0m\u001b[0m\n\u001b[1;32m----> 7\u001b[1;33m         \u001b[0msim\u001b[0m \u001b[1;33m=\u001b[0m \u001b[0mcalc_sim\u001b[0m\u001b[1;33m(\u001b[0m\u001b[0mi\u001b[0m\u001b[1;33m,\u001b[0m \u001b[0mj\u001b[0m\u001b[1;33m,\u001b[0m \u001b[0mmetric\u001b[0m\u001b[1;33m)\u001b[0m\u001b[1;33m\u001b[0m\u001b[1;33m\u001b[0m\u001b[0m\n\u001b[0m\u001b[0;32m      8\u001b[0m         \u001b[0mkey\u001b[0m \u001b[1;33m=\u001b[0m \u001b[0mstr\u001b[0m\u001b[1;33m(\u001b[0m\u001b[0mu\u001b[0m\u001b[1;33m)\u001b[0m\u001b[1;33m+\u001b[0m\u001b[1;34m\"/\"\u001b[0m\u001b[1;33m+\u001b[0m\u001b[0mstr\u001b[0m\u001b[1;33m(\u001b[0m\u001b[0mj\u001b[0m\u001b[1;33m)\u001b[0m\u001b[1;33m\u001b[0m\u001b[1;33m\u001b[0m\u001b[0m\n\u001b[0;32m      9\u001b[0m         \u001b[0mr\u001b[0m \u001b[1;33m+=\u001b[0m \u001b[0msim\u001b[0m\u001b[1;33m*\u001b[0m\u001b[0mrating_map\u001b[0m\u001b[1;33m[\u001b[0m\u001b[0mkey\u001b[0m\u001b[1;33m]\u001b[0m\u001b[1;33m\u001b[0m\u001b[1;33m\u001b[0m\u001b[0m\n",
      "\u001b[1;32m~\\AppData\\Local\\Temp\\ipykernel_9300\\252528816.py\u001b[0m in \u001b[0;36mcalc_sim\u001b[1;34m(i, j, metric)\u001b[0m\n\u001b[0;32m     11\u001b[0m     \u001b[1;32mif\u001b[0m \u001b[0mmetric\u001b[0m \u001b[1;33m==\u001b[0m \u001b[1;34m\"Jaccard\"\u001b[0m\u001b[1;33m:\u001b[0m\u001b[1;33m\u001b[0m\u001b[1;33m\u001b[0m\u001b[0m\n\u001b[0;32m     12\u001b[0m         \u001b[0mintersection_size\u001b[0m \u001b[1;33m=\u001b[0m \u001b[0mlen\u001b[0m\u001b[1;33m(\u001b[0m\u001b[0mset\u001b[0m\u001b[1;33m(\u001b[0m\u001b[0musers_rated_i\u001b[0m\u001b[1;33m)\u001b[0m\u001b[1;33m.\u001b[0m\u001b[0mintersection\u001b[0m\u001b[1;33m(\u001b[0m\u001b[0musers_rated_j\u001b[0m\u001b[1;33m)\u001b[0m\u001b[1;33m)\u001b[0m\u001b[1;33m\u001b[0m\u001b[1;33m\u001b[0m\u001b[0m\n\u001b[1;32m---> 13\u001b[1;33m         \u001b[0munion_size\u001b[0m \u001b[1;33m=\u001b[0m \u001b[0mlen\u001b[0m\u001b[1;33m(\u001b[0m\u001b[0mset\u001b[0m\u001b[1;33m(\u001b[0m\u001b[0musers_rated_i\u001b[0m\u001b[1;33m)\u001b[0m\u001b[1;33m.\u001b[0m\u001b[0munion\u001b[0m\u001b[1;33m(\u001b[0m\u001b[0musers_rated_j\u001b[0m\u001b[1;33m)\u001b[0m\u001b[1;33m)\u001b[0m\u001b[1;33m\u001b[0m\u001b[1;33m\u001b[0m\u001b[0m\n\u001b[0m\u001b[0;32m     14\u001b[0m         \u001b[1;32mreturn\u001b[0m \u001b[0mintersection_size\u001b[0m \u001b[1;33m/\u001b[0m \u001b[0munion_size\u001b[0m\u001b[1;33m\u001b[0m\u001b[1;33m\u001b[0m\u001b[0m\n\u001b[0;32m     15\u001b[0m     \u001b[1;32melif\u001b[0m \u001b[0mmetric\u001b[0m \u001b[1;33m==\u001b[0m \u001b[1;34m\"Euclidian_Distance\"\u001b[0m\u001b[1;33m:\u001b[0m\u001b[1;33m\u001b[0m\u001b[1;33m\u001b[0m\u001b[0m\n",
      "\u001b[1;32m~\\anaconda3\\lib\\site-packages\\pandas\\core\\arrays\\base.py\u001b[0m in \u001b[0;36m__iter__\u001b[1;34m(self)\u001b[0m\n\u001b[0;32m    415\u001b[0m         \u001b[1;31m# calls to ``__getitem__``, which may be slower than necessary.\u001b[0m\u001b[1;33m\u001b[0m\u001b[1;33m\u001b[0m\u001b[0m\n\u001b[0;32m    416\u001b[0m         \u001b[1;32mfor\u001b[0m \u001b[0mi\u001b[0m \u001b[1;32min\u001b[0m \u001b[0mrange\u001b[0m\u001b[1;33m(\u001b[0m\u001b[0mlen\u001b[0m\u001b[1;33m(\u001b[0m\u001b[0mself\u001b[0m\u001b[1;33m)\u001b[0m\u001b[1;33m)\u001b[0m\u001b[1;33m:\u001b[0m\u001b[1;33m\u001b[0m\u001b[1;33m\u001b[0m\u001b[0m\n\u001b[1;32m--> 417\u001b[1;33m             \u001b[1;32myield\u001b[0m \u001b[0mself\u001b[0m\u001b[1;33m[\u001b[0m\u001b[0mi\u001b[0m\u001b[1;33m]\u001b[0m\u001b[1;33m\u001b[0m\u001b[1;33m\u001b[0m\u001b[0m\n\u001b[0m\u001b[0;32m    418\u001b[0m \u001b[1;33m\u001b[0m\u001b[0m\n\u001b[0;32m    419\u001b[0m     \u001b[1;32mdef\u001b[0m \u001b[0m__contains__\u001b[0m\u001b[1;33m(\u001b[0m\u001b[0mself\u001b[0m\u001b[1;33m,\u001b[0m \u001b[0mitem\u001b[0m\u001b[1;33m:\u001b[0m \u001b[0mobject\u001b[0m\u001b[1;33m)\u001b[0m \u001b[1;33m->\u001b[0m \u001b[0mbool\u001b[0m \u001b[1;33m|\u001b[0m \u001b[0mnp\u001b[0m\u001b[1;33m.\u001b[0m\u001b[0mbool_\u001b[0m\u001b[1;33m:\u001b[0m\u001b[1;33m\u001b[0m\u001b[1;33m\u001b[0m\u001b[0m\n",
      "\u001b[1;31mKeyboardInterrupt\u001b[0m: "
     ]
    }
   ],
   "source": [
    "top_N_pred_sort(10, 2)"
   ]
  },
  {
   "cell_type": "code",
   "execution_count": 182,
   "id": "55510141",
   "metadata": {},
   "outputs": [],
   "source": [
    "X_test.to_csv(\"./datasets/X_test_8.csv\")"
   ]
  },
  {
   "cell_type": "code",
   "execution_count": null,
   "id": "04733c0b",
   "metadata": {},
   "outputs": [],
   "source": []
  }
 ],
 "metadata": {
  "kernelspec": {
   "display_name": "Python 3 (ipykernel)",
   "language": "python",
   "name": "python3"
  },
  "language_info": {
   "codemirror_mode": {
    "name": "ipython",
    "version": 3
   },
   "file_extension": ".py",
   "mimetype": "text/x-python",
   "name": "python",
   "nbconvert_exporter": "python",
   "pygments_lexer": "ipython3",
   "version": "3.9.13"
  }
 },
 "nbformat": 4,
 "nbformat_minor": 5
}
